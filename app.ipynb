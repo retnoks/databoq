{
 "cells": [
  {
   "cell_type": "code",
   "execution_count": 7,
   "metadata": {},
   "outputs": [],
   "source": [
    "from flask import Flask, send_from_directory, render_template_string\n",
    "import os"
   ]
  },
  {
   "cell_type": "code",
   "execution_count": 8,
   "metadata": {},
   "outputs": [],
   "source": [
    "app = Flask(__name__)\n",
    "output_dir = 'output_graphs'"
   ]
  },
  {
   "cell_type": "code",
   "execution_count": 9,
   "metadata": {},
   "outputs": [],
   "source": [
    "@app.route('/graph/<filename>', methods=['GET'])\n",
    "def get_graph(filename):\n",
    "    try:\n",
    "        return send_from_directory(output_dir, filename)\n",
    "    except FileNotFoundError:\n",
    "        return \"File not found\", 404"
   ]
  },
  {
   "cell_type": "code",
   "execution_count": 10,
   "metadata": {},
   "outputs": [],
   "source": [
    "@app.route('/show_graph/<filename>', methods=['GET'])\n",
    "def show_graph(filename):\n",
    "    try:\n",
    "        with open(os.path.join(output_dir, filename), 'r', encoding='utf-8') as f:\n",
    "            graph_html = f.read()\n",
    "        return render_template_string('<html><body>{{ graph_html|safe }}</body></html>', graph_html=graph_html)\n",
    "    except FileNotFoundError:\n",
    "        return \"File not found\", 404"
   ]
  },
  {
   "cell_type": "code",
   "execution_count": null,
   "metadata": {},
   "outputs": [],
   "source": [
    "if __name__ == '__main__':\n",
    "    app.run(debug=True)\n"
   ]
  }
 ],
 "metadata": {
  "kernelspec": {
   "display_name": "Python 3",
   "language": "python",
   "name": "python3"
  },
  "language_info": {
   "codemirror_mode": {
    "name": "ipython",
    "version": 3
   },
   "file_extension": ".py",
   "mimetype": "text/x-python",
   "name": "python",
   "nbconvert_exporter": "python",
   "pygments_lexer": "ipython3",
   "version": "3.12.3"
  }
 },
 "nbformat": 4,
 "nbformat_minor": 2
}
