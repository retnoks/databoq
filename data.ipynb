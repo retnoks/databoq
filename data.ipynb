{
 "cells": [
  {
   "cell_type": "code",
   "execution_count": 1,
   "metadata": {},
   "outputs": [],
   "source": [
    "import pandas as pd\n",
    "import plotly.graph_objects as go\n",
    "import plotly.io as pio\n",
    "import os"
   ]
  },
  {
   "cell_type": "code",
   "execution_count": 2,
   "metadata": {},
   "outputs": [],
   "source": [
    "df = pd.read_csv('Data boq.csv', encoding='utf-8')"
   ]
  },
  {
   "cell_type": "code",
   "execution_count": 3,
   "metadata": {},
   "outputs": [],
   "source": [
    "df['vendor_name'] = df['vendor_name'].replace({\n",
    "    'PT. Berca Engineering': 'PT Berca Engineering',\n",
    "    'PT. Fadil Jaya abadi' : 'PT Fadil Jaya abadi',\n",
    "    'PT. JAYA ABADI' : 'PT Jaya Abadi',\n",
    "    'PT. Kaliraya Sari' : 'PT Kaliraya Sari',\n",
    "    'PT. Yaop yaya op op ' : 'PT Yaop Yaya Op Op',\n",
    "    'Universal export' : 'Universal Export',\n",
    "    'pt yes' : 'PT Yes'})"
   ]
  },
  {
   "cell_type": "code",
   "execution_count": 4,
   "metadata": {},
   "outputs": [],
   "source": [
    "boq_df = df.groupby(['vendor_name', 'month']).agg({\n",
    "    'plan_cost': 'sum',\n",
    "    'actual_cost': 'sum'\n",
    "}).reset_index()\n",
    "boq_df['month'] = pd.to_datetime(boq_df['month'])\n",
    "boq_df['month'] = boq_df['month'].dt.strftime('%B %Y')"
   ]
  },
  {
   "cell_type": "code",
   "execution_count": 5,
   "metadata": {},
   "outputs": [],
   "source": [
    "output_dir = 'output_graphs'\n",
    "if not os.path.exists(output_dir):\n",
    "    os.makedirs(output_dir)"
   ]
  },
  {
   "cell_type": "code",
   "execution_count": 6,
   "metadata": {},
   "outputs": [],
   "source": [
    "def create_and_save_figure(vendor_name, output_filename):\n",
    "    vendor_data = boq_df[boq_df['vendor_name'] == vendor_name]\n",
    "    fig = go.Figure()\n",
    "\n",
    "    fig.add_trace(go.Scatter(\n",
    "        x=vendor_data['month'],\n",
    "        y=vendor_data['plan_cost'],\n",
    "        mode='markers',\n",
    "        marker=dict(color='blue'),\n",
    "        name='Plan Cost'))\n",
    "    fig.add_trace(go.Scatter(\n",
    "        x=vendor_data['month'],\n",
    "        y=vendor_data['actual_cost'],\n",
    "        mode='markers',\n",
    "        marker=dict(color='green'),\n",
    "        name='Actual Cost'))\n",
    "    total_plan_per_month = vendor_data.groupby('month')['plan_cost'].sum()\n",
    "    total_actual_per_month = vendor_data.groupby('month')['actual_cost'].sum()\n",
    "    max_threshold = (total_plan_per_month.max() + total_actual_per_month.max()) / 2\n",
    "    fig.add_hline(y=max_threshold, line=dict(color='red', dash='dash'), name='Max Threshold')\n",
    "    fig.update_layout(\n",
    "        title=f'{vendor_name} Performance Analysis',\n",
    "        xaxis_title='Time',\n",
    "        yaxis_title='Cost',\n",
    "        yaxis=dict(tickprefix='IDR '),\n",
    "        legend_title='Legend')\n",
    "    \n",
    "    fig_html = pio.to_html(fig, full_html=False)\n",
    "    with open(os.path.join(output_dir, output_filename), 'w', encoding='utf-8') as f:\n",
    "        f.write(fig_html)"
   ]
  },
  {
   "cell_type": "code",
   "execution_count": 7,
   "metadata": {},
   "outputs": [],
   "source": [
    "vendors = [\n",
    "    ('PT Vendor Al Fatih', 'fig_al_fatih.html'),\n",
    "    ('PT Vendor Sejati', 'fig_sejati.html'),\n",
    "    ('PT Berca Engineering', 'fig_berca.html'),\n",
    "    ('PT Fadil Jaya abadi', 'fig_fadiljaya.html'),\n",
    "    ('PT Jaya Abadi', 'fig_jayaabadi.html'),\n",
    "    ('PT Kaliraya Sari', 'fig_kalirayasari.html'),\n",
    "    ('PT Yaop Yaya Op Op', 'fig_yaopyaya.html'),\n",
    "    ('SCM', 'fig_scm.html'),\n",
    "    ('Universal Export', 'fig_universal.html'),\n",
    "    ('PT Yes', 'fig_yes.html')\n",
    "    ]\n"
   ]
  },
  {
   "cell_type": "code",
   "execution_count": 8,
   "metadata": {},
   "outputs": [],
   "source": [
    "for vendor, filename in vendors:\n",
    "    create_and_save_figure(vendor, filename)"
   ]
  }
 ],
 "metadata": {
  "kernelspec": {
   "display_name": "Python 3",
   "language": "python",
   "name": "python3"
  },
  "language_info": {
   "codemirror_mode": {
    "name": "ipython",
    "version": 3
   },
   "file_extension": ".py",
   "mimetype": "text/x-python",
   "name": "python",
   "nbconvert_exporter": "python",
   "pygments_lexer": "ipython3",
   "version": "3.12.3"
  }
 },
 "nbformat": 4,
 "nbformat_minor": 2
}
